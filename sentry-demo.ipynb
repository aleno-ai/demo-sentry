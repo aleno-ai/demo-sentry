{
 "cells": [
  {
   "cell_type": "markdown",
   "metadata": {},
   "source": [
    "# Sentry Demo\n",
    "Welcome to the interactive demonstration of Aleno's Sentry API, crafted specifically for DeFi Asset Managers. This notebook is designed to guide you through the powerful features of Sentry, an advanced alerting system that enables meticulous monitoring of financial risks across DeFi platforms.\n",
    "\n",
    "#### Documentation\n",
    "For detailed information about all available API routes and features, please consult our official [documentation](https://docs.aleno.ai).\n",
    "\n",
    "Objective\n",
    "In this demonstration, you'll learn:\n",
    "\n",
    "- How to configure simple alerts using Sentry\n",
    "- How to visualize the recent metrics variations\n",
    "- How to set up Sentry to send customized alerts directly to your Telegram, integrated via [Zapier](https://zapier.com/).\n",
    "By the end of this notebook, you'll be able to customize Sentry alerts to fit your DeFi portfolio needs, improving your asset management and risk reduction strategies.\n",
    "\n",
    "Let’s get started!\n",
    "\n",
    "**NOTE**: For this notebook, it's assumed you have already obtained an API_KEY. Please ensure you replace it in the following cell.\n"
   ]
  },
  {
   "cell_type": "code",
   "execution_count": null,
   "metadata": {},
   "outputs": [],
   "source": [
    "import requests \n",
    "\n",
    "API_KEY = \"YOUR_API_KEY\"\n",
    "\n",
    "headers = { \n",
    "    'Authorization': API_KEY,\n",
    "    'Content-Type': 'application/json'\n",
    "}\n",
    "\n",
    "# This demo will be done on ETH chain only\n",
    "CHAIN_ID = \"eth\"\n",
    "sentry_base_url = \"https://sentry.aleno.ai\""
   ]
  },
  {
   "cell_type": "markdown",
   "metadata": {},
   "source": [
    " # 1. Create a new user\n",
    "\n",
    " Sentry's design allows to separate the API usage in many User for a single API key. This allow to create several desktop for a single organization. If you are the single user of the API you will create a single user during first use."
   ]
  },
  {
   "cell_type": "code",
   "execution_count": null,
   "metadata": {},
   "outputs": [],
   "source": [
    "\n",
    "data = { \"users\" : \n",
    "    # Our list has only one element as we create one unique user\n",
    "    [{\n",
    "        # Optional field a username to identify the user\n",
    "        \"userName\": \"Alice\", \n",
    "        # Optional field a user context any string that can allow to identify your user in your internal business logic\n",
    "        \"userContext\": \"alice_context\"\n",
    "    }]\n",
    "}\n",
    "\n",
    "\n",
    "user = requests.post(\n",
    "    f'{sentry_base_url}/users',\n",
    "    json=data,\n",
    "    headers=headers\n",
    ").json()['data'][0]\n",
    "\n",
    "print(f'User created with id:{user[\"id\"]}')"
   ]
  },
  {
   "cell_type": "markdown",
   "metadata": {},
   "source": [
    " # 2. Find meaningful metrics"
   ]
  },
  {
   "cell_type": "markdown",
   "metadata": {},
   "source": [
    "Now that we have an Api key and a user we are ready to subscribe to metrics in order to receive Alerts.\n",
    "\n",
    "#### Metrics Overview\n",
    "\n",
    "Currently Sentry Api supports a set 6 types of metrics that will rapidly grow. Metrics can be split into 2 types.\n",
    "\n",
    "- **Token metrics**: These metrics allows to track the activity of a given asset across DeFi.\n",
    "- **Pool metrics**: These metrics allows to monitor the activity of an AMM's pool. Most of AMM are currently supported.\n",
    "\n",
    "Currently supported metrics are:\n",
    "\n",
    "Token metrics:\n",
    "- **Token Total TVL**: This metric represent the total amount of liquid asset in AMMs pools. Alerts are triggered as soon as the aggregated TVL of all pools of a token highly increases/decreases in a block or a user-defined time window.\n",
    "- **Token Total Supply**: Alerts are triggered as soon as the total supply of a given token highly increases/decreases in a block or a user-defined time window. This is useful to monitor LRT/LST total deposited amount as the total supply of an LRT is equal to the amount of ETH deposited\n",
    "- **Token USD price**: Alerts are triggered as soon as the USD price of a token highly increases/decreases in a block or a user-defined time window.\n",
    "- **Token WETH price**: Alerts are triggered as soon as the WETH price of a token highly increases/decreases in a block or a user-defined time window. \n",
    " \n",
    " Pool metrics:\n",
    " - **Pool TVL**:  Alerts are triggered as soon as the TVL of a pool highly increases/decreases in a block or a user-defined time window. This metric can allow to monitor pool draining or large token dumps.\n",
    " - **Pool Rates**:  Alerts are triggered as soon as the rate of a pool highly increases/decreases in a block or a user-defined time window.\n",
    "\n",
    " A complete list of upcoming metrics can be found in our official [documentation](https://docs.aleno.ai).\n",
    "\n",
    "\n",
    "\n",
    "Within Sentry, each metric can be identified by its **key**. There are several methods to find a relevant metric to subscribe to, including recreating the key based on known parameters or using suggestion routes.\n",
    "\n",
    "### A. Reconstruct a metric key\n",
    "\n",
    "A metric key is in the form of:`chainId_metricType_parameters`. By replacing the ``{address}` parameter in the key, you could retrieve any metric if it is supported.\n",
    "\n",
    "- **Token TVL**: eth_token_total_tvl_{tokenAddress}\n",
    "- **Token Supply**: eth_token_total_supply_{tokenAddress}\n",
    "- **Token Weth**: eth_token_weth_price_{tokenAddress}\n",
    "- **Token USD price**: eth_token_usd_price_{tokenAddress}\n",
    "- **Pool TVL**: eth_pool_tvl_{poolAddress}_{tokenAddress}\n",
    "- **Pool Rate**: eth_pool_rate_{poolAddress}_{baseTokenAddress}_{quoteTokenAddress}\n",
    "\n",
    "Let's check if the ezETH price in WETH is supported"
   ]
  },
  {
   "cell_type": "code",
   "execution_count": null,
   "metadata": {},
   "outputs": [],
   "source": [
    "# Careful, all addresses should be lowercase !!\n",
    "ezETH_token_address = '0xbf5495efe5db9ce00f80364c8b423567e58d2110'\n",
    "metric_key = f'eth_token_weth_price_{ezETH_token_address}'\n",
    "\n",
    "# Make a GET request, passing the list of token addresses as a 'token_address' parameter\n",
    "response = requests.get(\n",
    "    f'{sentry_base_url}/metrics',\n",
    "    params={'keys':  metric_key,\n",
    "            'chainId': 'eth'}\n",
    ")\n",
    "\n",
    "# Convert the response to JSON and access the 'data' part\n",
    "ezETH_price_metric = response.json()['data']\n",
    "print(ezETH_price_metric)"
   ]
  },
  {
   "cell_type": "markdown",
   "metadata": {},
   "source": [
    "We see that we are getting the metric result with all its info, so the crafted metrics is supported. We can also display its recent evolution using the metrics/records/range route."
   ]
  },
  {
   "cell_type": "code",
   "execution_count": null,
   "metadata": {},
   "outputs": [],
   "source": [
    "import pandas as pd\n",
    "import plotly.express as px\n",
    "\n",
    "response = requests.get(\n",
    "    f'{sentry_base_url}/metrics/records/range',\n",
    "    params={'key':  metric_key},\n",
    "    headers=headers\n",
    ")\n",
    "\n",
    "# Convert the response to JSON and access the 'data' part\n",
    "ezETH_price_history = response.json()['data']\n",
    "\n",
    "df = pd.DataFrame(ezETH_price_history['points'])\n",
    "df['date'] = pd.to_datetime(df['timestamp'],unit='s')\n",
    "\n",
    "# Creating the line plot\n",
    "fig = px.line(df, x='date', y='value', title='Line Plot of Date vs Value', labels={'Value': 'Price'})\n",
    "fig.show()"
   ]
  },
  {
   "cell_type": "markdown",
   "metadata": {},
   "source": [
    "### B. Find metrics using tokens/pools addresses\n",
    "\n",
    "Instead of manually building the keys one by one, it could be more convenient to retrieve the full set of keys for given tokens/pools.\n",
    "\n",
    "Lets see an example by fetching all metrics related to the ezETH token address"
   ]
  },
  {
   "cell_type": "code",
   "execution_count": null,
   "metadata": {},
   "outputs": [],
   "source": [
    "# Note that one could fetch multiple addresses at once. For the simplicity of this demo we only consider one token\n",
    "token_addresses = [ezETH_token_address]\n",
    "\n",
    "response = requests.get(\n",
    "    f'{sentry_base_url}/metrics',\n",
    "    params={'tokenAddresses':  ','.join(token_addresses),\n",
    "            'chainId': 'eth'}\n",
    ")\n",
    "\n",
    "# Convert the response to JSON and access the 'data' part\n",
    "metrics = response.json()['data']\n",
    "print(f'{len(metrics)} metrics found')\n",
    "print([metric['key'] for metric in metrics])"
   ]
  },
  {
   "cell_type": "markdown",
   "metadata": {},
   "source": [
    "### C. Find metrics using wallet addresses"
   ]
  },
  {
   "cell_type": "markdown",
   "metadata": {},
   "source": [
    "To get a list of metrics suggestion for a given portfolio (list of wallet addresses), you can get the /suggestion route. This route will suggest you all supported metrics based on assets a nd positions found in you wallet. It also returns the list of supported/unsupported assets that were found in the portfolio.\n",
    "\n",
    "Don't hesitate to reach out if you find major unsupported assets we will add them ASAP."
   ]
  },
  {
   "cell_type": "code",
   "execution_count": null,
   "metadata": {},
   "outputs": [],
   "source": [
    "# Note that one could fetch multiple addresses at once. For the simplicity of this demo we only consider one token\n",
    "wallet_addresses = [\"0x30dff99282b36b93f96376fd565c981e013289a0\".lower()]\n",
    "\n",
    "response = requests.get(\n",
    "    f'{sentry_base_url}/suggestions',\n",
    "    params={'addresses':  ','.join(wallet_addresses),\n",
    "            # only get suggestions for held assets worth more than 100$\n",
    "            \"assetUsdThreshold\": 100,\n",
    "            \"positionUsdThreshold\": 100,\n",
    "            'chainId': 'eth'\n",
    "            },\n",
    "    headers=headers\n",
    ")\n",
    "\n",
    "# Convert the response to JSON and access the 'data' part\n",
    "suggestions = response.json()['data']\n",
    "suggested_metrics_keys = [metric['key'] for metric in suggestions['metrics']]\n",
    "suggested_metrics_keys"
   ]
  },
  {
   "cell_type": "markdown",
   "metadata": {},
   "source": [
    "# 3. Subscribe to metrics"
   ]
  },
  {
   "cell_type": "markdown",
   "metadata": {},
   "source": [
    "Now that we've found interesting metrics let's actually subscribe to them for the user created in step 1.\n",
    "\n",
    "In this example we will subscribe to all metrics suggested for the wallet address provided above. We set small thresholds in order to test the notifications. "
   ]
  },
  {
   "cell_type": "code",
   "execution_count": null,
   "metadata": {},
   "outputs": [],
   "source": [
    "# Here we assign the same threshold to all users, but this could be adjusted depending on you logic\n",
    "subscription_data = [{ \n",
    "    'userId': user['id'],\n",
    "    'threshold': 0.01,\n",
    "    'metricKey': key  \n",
    "    } for key in suggested_metrics_keys]\n",
    "\n",
    "response = requests.post(\n",
    "    f'{sentry_base_url}/subscriptions',\n",
    "    json= { \"subscriptions\": subscription_data },\n",
    "    headers=headers\n",
    ")\n",
    "\n",
    "print(f'Successfully updated to {len(response.json()[\"data\"]['upsertedSubscriptions'])} metrics')"
   ]
  },
  {
   "cell_type": "markdown",
   "metadata": {},
   "source": [
    "# 4. Receive the notifications"
   ]
  },
  {
   "cell_type": "markdown",
   "metadata": {},
   "source": [
    "### a. Receive real time alerts\n",
    "\n",
    "Currently, alerts can only be sent to a webhook or to telegram. You have 3 choices to receive notifications:\n",
    "\n",
    "- setup your own webhook server and handle notifications with you custom logic\n",
    "- setup a zapier account and create a Zap to process the notifications and send them to your preferred device. Everything is explained in the official with an example with telegram [documentation](https://docs.aleno.ai/use-cases/alerts-on-telegram-with-zapier)\n",
    "- setup a telegram channel and configure sentry to send notifications to that channel as explained in the [documentation](https://docs.aleno.ai/use-cases/alerts-on-telegram-with-zapier)\n",
    "\n",
    "Here we assume that you've configured a telegram channel and know the channel ID to be replaced in YOUR_TELEGRAM_ID "
   ]
  },
  {
   "cell_type": "code",
   "execution_count": null,
   "metadata": {},
   "outputs": [],
   "source": [
    "telegram_channel_id = '-4220052563'\n",
    "response = requests.put(\n",
    "    f'{sentry_base_url}/account',\n",
    "    json={'telegramChannelId':telegram_channel_id},\n",
    "    headers=headers \n",
    ").json()\n",
    "\n",
    "print(response['data'])"
   ]
  },
  {
   "cell_type": "markdown",
   "metadata": {},
   "source": [
    "You can now see alerts coming in your telegram channel."
   ]
  },
  {
   "cell_type": "markdown",
   "metadata": {},
   "source": [
    "### b. Check alert history\n",
    "\n",
    "Alerts can also be checked by regularly polling the alert history endpoint as follow."
   ]
  },
  {
   "cell_type": "code",
   "execution_count": null,
   "metadata": {},
   "outputs": [],
   "source": [
    "response = requests.get(\n",
    "    f'{sentry_base_url}/alertHistory',\n",
    "    # Optional get alerts for the created user\n",
    "    params={'userId': user['id'], 'pageSize':100},\n",
    "    headers=headers\n",
    ").json()\n",
    "\n",
    "alerts_df = pd.DataFrame(response['data'])\n",
    "alerts_df"
   ]
  },
  {
   "cell_type": "markdown",
   "metadata": {},
   "source": [
    "# 5. Drop subscriptions "
   ]
  },
  {
   "cell_type": "markdown",
   "metadata": {},
   "source": [
    "Here we show how to fetch all metrics and delete them. To delete a subscription, just update it's threshold to 0."
   ]
  },
  {
   "cell_type": "code",
   "execution_count": null,
   "metadata": {},
   "outputs": [],
   "source": [
    "for sub in subscription_data:\n",
    "    sub['threshold'] = 0\n",
    "\n",
    "number_deleted_subscriptions = requests.post(\n",
    "    f'{sentry_base_url}/subscriptions',\n",
    "    json= { \"subscriptions\": subscription_data },\n",
    "    headers=headers\n",
    ").json()['data']['numberDeletedSubscription']\n",
    "\n",
    "print(f'Successfully deleted {number_deleted_subscriptions} subscriptions')"
   ]
  }
 ],
 "metadata": {
  "kernelspec": {
   "display_name": "Python 3",
   "language": "python",
   "name": "python3"
  },
  "language_info": {
   "codemirror_mode": {
    "name": "ipython",
    "version": 3
   },
   "file_extension": ".py",
   "mimetype": "text/x-python",
   "name": "python",
   "nbconvert_exporter": "python",
   "pygments_lexer": "ipython3",
   "version": "3.12.2"
  }
 },
 "nbformat": 4,
 "nbformat_minor": 2
}
